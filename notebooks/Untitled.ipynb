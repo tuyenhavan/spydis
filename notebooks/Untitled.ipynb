{
 "cells": [
  {
   "cell_type": "code",
   "execution_count": 59,
   "id": "36ff2204",
   "metadata": {},
   "outputs": [],
   "source": [
    "def VHI(vci,tci, scale=None):\n",
    "    \"\"\" Calculate VHI (Vegetation Health Index) from time-series VCI and TCI observations. \n",
    "    \n",
    "        Args:\n",
    "        vci (DataArray|numpy): Time-series VCI data\n",
    "        tci (DataArray|numpy): Time-series TCI data.\n",
    "        scale (float|optional): a scaling factor. Default to None.\n",
    "        return: \n",
    "            VHI (DataArray): Time-series VCI calculated from VIC and TCI data.\n",
    "    \"\"\"\n",
    "    \n",
    "    if not isinstance(vci, (xr.core.dataarray.DataArray, ndarray)) and not isinstance(tci, (xr.core.dataarray.DataArray, ndarray)):\n",
    "        raise TypeError (\"Data should be xarray DataArray or numpy\")\n",
    "    if not isinstance(scale, float):\n",
    "        raise TypeError (\"Scale should be float point\")\n",
    "    if vci.shape==tci.shape:\n",
    "        vhi=scale*vci+(1-scale)*tci\n",
    "        return vhi\n",
    "    else:\n",
    "        raise ValueError (\"VCI and TCI have different shapes\")\n",
    "\n",
    "    \n",
    "        "
   ]
  },
  {
   "cell_type": "code",
   "execution_count": 36,
   "id": "5383149a",
   "metadata": {},
   "outputs": [],
   "source": [
    "import numpy as np\n",
    "import rioxarray as rx\n",
    "import xarray as xr\n",
    "import pfast\n",
    "import datetime as dt\n",
    "from dateutil.relativedelta import relativedelta"
   ]
  },
  {
   "cell_type": "code",
   "execution_count": 37,
   "id": "cbfb8b8a",
   "metadata": {},
   "outputs": [
    {
     "data": {
      "text/plain": [
       "('band', 'y', 'x')"
      ]
     },
     "execution_count": 37,
     "metadata": {},
     "output_type": "execute_result"
    }
   ],
   "source": [
    "data=rx.open_rasterio(r\"D:\\Package_Development\\spydis\\data\\MODIS_NDVI_VN.tif\")\n",
    "data.dims"
   ]
  },
  {
   "cell_type": "code",
   "execution_count": 51,
   "id": "6a66bf04",
   "metadata": {},
   "outputs": [],
   "source": [
    "test=time_dimension(data,start_date=\"2000-01-01\", freq=\"day\",)"
   ]
  },
  {
   "cell_type": "code",
   "execution_count": 57,
   "id": "c3146cc4",
   "metadata": {},
   "outputs": [],
   "source": [
    "vci=VCI(test,freq=\"day\")"
   ]
  },
  {
   "cell_type": "code",
   "execution_count": 63,
   "id": "e0b623cb",
   "metadata": {},
   "outputs": [],
   "source": [
    "avi=AVI(test,freq=\"day\")"
   ]
  },
  {
   "cell_type": "code",
   "execution_count": 65,
   "id": "a20587e7",
   "metadata": {},
   "outputs": [
    {
     "data": {
      "text/plain": [
       "numpy.ndarray"
      ]
     },
     "execution_count": 65,
     "metadata": {},
     "output_type": "execute_result"
    }
   ],
   "source": [
    "type(np.array([1,2,2,2]))"
   ]
  },
  {
   "cell_type": "code",
   "execution_count": 66,
   "id": "43b77b0f",
   "metadata": {},
   "outputs": [],
   "source": [
    "def TCI(data, dim=None, freq=None):\n",
    "    \"\"\" Calculate TCI from time-series LST observations. \n",
    "\n",
    "        Args:\n",
    "        data (DataArray): Time-series LST data\n",
    "        dim (str|optional): A time dimension.\n",
    "        frq (str|optional): A time frequency (e.g., day, month, year)\n",
    "        return:\n",
    "            TCI (DataArray): Time-series TCI calculated from LST data.\n",
    "    \"\"\"\n",
    "\n",
    "    if not isinstance(data, xr.core.dataarray.DataArray):\n",
    "        raise TypeError (\"Data should be xarray DataArray\")\n",
    "    if dim is None:\n",
    "        dim=data.dims[0].strip()\n",
    "    else:\n",
    "        dim=dim\n",
    "    if freq is None:\n",
    "        freq=\"month\"\n",
    "    else:\n",
    "        freq=freq\n",
    "    if freq.lower() in [\"month\",\"months\",\"m\"]:\n",
    "        lst_min=data.groupby(f\"{dim}.month\").min(f\"{dim}\")\n",
    "        lst_max=data.groupby(f\"{dim}.month\").max(f\"{dim}\")\n",
    "        max_min=lst_max-lst_min\n",
    "        nominator=data.groupby(f\"{dim}.month\")-lst_min\n",
    "        tci=nominator.groupby(f\"{dim}.month\")/max_min*100\n",
    "        return tci\n",
    "    elif freq.lower() in [\"days\",\"day\",\"d\"]:\n",
    "        lst_min=data.groupby(f\"{dim}.day\").min(f\"{dim}\")\n",
    "        lst_max=data.groupby(f\"{dim}.day\").max(f\"{dim}\")\n",
    "        max_min=lst_max-lst_min\n",
    "        nominator=data.groupby(f\"{dim}.day\")-lst_min\n",
    "        tci=nominator.groupby(f\"{dim}.day\")/max_min*100\n",
    "        return tci\n",
    "    elif freq.lower() in [\"years\",\"year\",\"y\"]:\n",
    "        lst_min=data.min(f\"{dim}\")\n",
    "        lst_max=data.max(f\"{dim}\")\n",
    "        max_min=lst_max-lst_min\n",
    "        nominator=data-lst_min\n",
    "        tci=nominator/max_min*100\n",
    "        return tci\n",
    "    else:\n",
    "        print(\"This function only supports the calculation of monthly, daily and yearly TCI.\")\n"
   ]
  },
  {
   "cell_type": "code",
   "execution_count": 1,
   "id": "6d3d928c",
   "metadata": {},
   "outputs": [],
   "source": [
    "def SAVI(nir,red,scale=0.5):\n",
    "    \"\"\" Calculate SAVI (Soil Adjusted Vegetation Index)\n",
    "    \n",
    "        Args:\n",
    "            nir (numpy|DataArray): Nir infreared band\n",
    "            red (numpy|DataArray): Red band in\n",
    "            scale (float|optional): A scaling factor.\n",
    "            \n",
    "        return:\n",
    "            SAVI (numpy|DataArray): A SAVI data\n",
    "    \"\"\"\n",
    "    if isinstance(red,(xr.core.dataarray.DataArray,np.ndarray)) and isinstance(nir,(xr.core.dataarray.DataArray,np.ndarray)):\n",
    "        if (red.shape==nir.shape) and (len(red.shape)==2 and len(nir.shape)==2):\n",
    "            pass\n",
    "        else:\n",
    "            raise ValueError (\"Datasets should have the same shape\")\n",
    "    else:\n",
    "        raise TypeError(\"Datasets should be DataArray or numpy\")\n",
    "    if not isinstance(scale, float):\n",
    "        raise TypeError (\"scale should be float\")\n",
    "    savi=((nir-red)/(nir+red+scale))*(1+scale)\n",
    "    return savi\n"
   ]
  },
  {
   "cell_type": "code",
   "execution_count": null,
   "id": "5d69317d",
   "metadata": {},
   "outputs": [],
   "source": [
    "def NDVI(red,nir):\n",
    "    \"\"\" Calculte NDVI from Red and Near Infrared bands.\n",
    "\n",
    "        Args:\n",
    "            red (numpy|DataArray): Red band in\n",
    "            nir (numpy|DataArray): Nir infreared band\n",
    "\n",
    "        return:\n",
    "            NDVI (DataArray|numpy)\n",
    "    \"\"\"\n",
    "    if isinstance(red,(xr.core.dataarray.DataArray,np.ndarray)) and isinstance(nir,(xr.core.dataarray.DataArray,np.ndarray)):\n",
    "        if (red.shape==nir.shape) and (len(red.shape)==2 and len(nir.shape)==2):\n",
    "            ndvi=(nir-red)/(nir+red)\n",
    "            return ndvi\n",
    "        else:\n",
    "            raise ValueError (\"Input data are not the same shape\")\n",
    "    else:\n",
    "        raise TypeError (\"Input data should be DataArray or numpy 2-D\")"
   ]
  }
 ],
 "metadata": {
  "kernelspec": {
   "display_name": "Python 3 (ipykernel)",
   "language": "python",
   "name": "python3"
  },
  "language_info": {
   "codemirror_mode": {
    "name": "ipython",
    "version": 3
   },
   "file_extension": ".py",
   "mimetype": "text/x-python",
   "name": "python",
   "nbconvert_exporter": "python",
   "pygments_lexer": "ipython3",
   "version": "3.8.10"
  },
  "varInspector": {
   "cols": {
    "lenName": 16,
    "lenType": 16,
    "lenVar": 40
   },
   "kernels_config": {
    "python": {
     "delete_cmd_postfix": "",
     "delete_cmd_prefix": "del ",
     "library": "var_list.py",
     "varRefreshCmd": "print(var_dic_list())"
    },
    "r": {
     "delete_cmd_postfix": ") ",
     "delete_cmd_prefix": "rm(",
     "library": "var_list.r",
     "varRefreshCmd": "cat(var_dic_list()) "
    }
   },
   "types_to_exclude": [
    "module",
    "function",
    "builtin_function_or_method",
    "instance",
    "_Feature"
   ],
   "window_display": false
  }
 },
 "nbformat": 4,
 "nbformat_minor": 5
}
